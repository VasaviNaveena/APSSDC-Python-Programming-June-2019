{
 "cells": [
  {
   "cell_type": "markdown",
   "metadata": {},
   "source": [
    "### Problem Solving and Programming in Python\n",
    "#### Date- 14 June 2019\n",
    "\n",
    "#### Day Objectives\n",
    "* Python data structures\n",
    "* Basic problem set on data structures\n"
   ]
  },
  {
   "cell_type": "markdown",
   "metadata": {},
   "source": [
    "### Python Data Structures\n",
    "#### Lists"
   ]
  },
  {
   "cell_type": "code",
   "execution_count": 25,
   "metadata": {},
   "outputs": [
    {
     "data": {
      "text/plain": [
       "456.0"
      ]
     },
     "execution_count": 25,
     "metadata": {},
     "output_type": "execute_result"
    }
   ],
   "source": [
    "lst = [123, 978,654]\n",
    "lst # Acess the entire list\n",
    "lst[1] # Acess the element with index in a list\n",
    "lst[1:] # Access all elements from second elements of a list\n",
    "lst[::-1] # Reversing list elements and reassigning to list elements\n",
    "lst = lst[::-1]\n",
    "lst\n",
    "lst = lst[::-1]\n",
    "lst\n",
    "lst[::2] # Accessing even index elements\n",
    "lst[1::2] # Accessing odd index elements\n",
    "\n",
    "# Lists can be accessed manipulates in two different ways\n",
    "    #Direct Referencing - [Index]\n",
    "    #Indirect Referencing - Through Functions\n",
    "lst.append(345)# Adding an element to the end of the list\n",
    "lst\n",
    "\n",
    "lst.insert(1, 608) # Adding an element at a particular position\n",
    "lst\n",
    "\n",
    "lst.sort() #Sort elements in ascending order\n",
    "lst\n",
    "\n",
    "lst.pop() #Remove the last element in a list\n",
    "lst\n",
    "\n",
    "lst.pop(2) #Remove an element at a particular index\n",
    "lst\n",
    "\n",
    "lst2 = [234, 456, 789]\n",
    "lst.extend(lst2)# Merge list 2 in list 1\n",
    "lst\n",
    "\n",
    "sum(lst) # Sum of all elements in a list\n",
    "max(lst) # Maximum element in a list\n",
    "len(lst) # length of elements in a list\n",
    "\n",
    "sum(lst)/len(lst) # Average of elements in a list\n",
    "sum(lst[1::2])/len(lst[1::2]) # Average of alternate elements in a list\n",
    "\n"
   ]
  },
  {
   "cell_type": "code",
   "execution_count": 9,
   "metadata": {},
   "outputs": [
    {
     "data": {
      "text/plain": [
       "45"
      ]
     },
     "execution_count": 9,
     "metadata": {},
     "output_type": "execute_result"
    }
   ],
   "source": [
    "# Function to Calculate the second largest element in a list\n",
    "\n",
    "lst = [10, 20, 4, 45, 99]\n",
    "def secondLargest(lst):\n",
    "    lst.sort()\n",
    "    return lst[-2]\n",
    "\n",
    "secondLargest(lst)\n",
    "    \n"
   ]
  },
  {
   "cell_type": "code",
   "execution_count": 12,
   "metadata": {},
   "outputs": [
    {
     "data": {
      "text/plain": [
       "45"
      ]
     },
     "execution_count": 12,
     "metadata": {},
     "output_type": "execute_result"
    }
   ],
   "source": [
    "lst = [10, 20, 4, 45, 99] \n",
    "lst.remove(max(lst))\n",
    "max(lst)\n"
   ]
  },
  {
   "cell_type": "code",
   "execution_count": 11,
   "metadata": {},
   "outputs": [
    {
     "data": {
      "text/plain": [
       "4"
      ]
     },
     "execution_count": 11,
     "metadata": {},
     "output_type": "execute_result"
    }
   ],
   "source": [
    "# Function that returns the nth largest\n",
    "lst = [10, 20, 4, 45, 99]\n",
    "def genericLargest(lst, n):\n",
    "    lst.sort()\n",
    "    return lst[-n]\n",
    "\n",
    "genericLargest(lst, 5)    "
   ]
  },
  {
   "cell_type": "code",
   "execution_count": 22,
   "metadata": {},
   "outputs": [
    {
     "data": {
      "text/plain": [
       "1"
      ]
     },
     "execution_count": 22,
     "metadata": {},
     "output_type": "execute_result"
    }
   ],
   "source": [
    "# Function to search for data in a list\n",
    "# Search for the key in the list and return the index of the key in a list\n",
    "lst = [10, 20, 4, 45, 99]\n",
    "def searchdata(lst, key):\n",
    "    for index in range(0, len(lst)):\n",
    "        if lst[index] == key:\n",
    "            return index \n",
    "    return -1\n",
    "    \n",
    "searchdata(lst, 20)\n"
   ]
  },
  {
   "cell_type": "code",
   "execution_count": 23,
   "metadata": {},
   "outputs": [
    {
     "data": {
      "text/plain": [
       "4"
      ]
     },
     "execution_count": 23,
     "metadata": {},
     "output_type": "execute_result"
    }
   ],
   "source": [
    "lst = [10, 20, 4, 45, 99]\n",
    "def linearsearch(lst, key):\n",
    "    for value in lst:\n",
    "        if value == key:\n",
    "            return lst.index(value)\n",
    "    return -1\n",
    "linearsearch(lst, 99)"
   ]
  },
  {
   "cell_type": "code",
   "execution_count": 26,
   "metadata": {},
   "outputs": [
    {
     "data": {
      "text/plain": [
       "0"
      ]
     },
     "execution_count": 26,
     "metadata": {},
     "output_type": "execute_result"
    }
   ],
   "source": [
    "lst = [10, 20, 4, 45, 99]\n",
    "def linearsearch1(lst, key):\n",
    "    if key in lst:\n",
    "        return lst.index(key)\n",
    "    return -1\n",
    "\n",
    "linearsearch1(lst, 10)\n",
    "    "
   ]
  },
  {
   "cell_type": "code",
   "execution_count": 34,
   "metadata": {},
   "outputs": [
    {
     "data": {
      "text/plain": [
       "2"
      ]
     },
     "execution_count": 34,
     "metadata": {},
     "output_type": "execute_result"
    }
   ],
   "source": [
    "# Function to count the occurances of a character in a string\n",
    "# \"Python Programming\" m-->2\n",
    "def countCharOccurances(s,c):\n",
    "    count = 0\n",
    "    for ch in s:\n",
    "        if ch == c:\n",
    "            count += 1\n",
    "    return count\n",
    "countCharOccurances(\"PythonProgramming\",\"m\")\n",
    "    \n",
    "    "
   ]
  },
  {
   "cell_type": "code",
   "execution_count": 36,
   "metadata": {},
   "outputs": [
    {
     "data": {
      "text/plain": [
       "1"
      ]
     },
     "execution_count": 36,
     "metadata": {},
     "output_type": "execute_result"
    }
   ],
   "source": [
    "def CharOccurances(s,c):\n",
    "    return s.count(c)\n",
    "\n",
    "CharOccurances(\"PythonProgramming\",\"Py\")\n",
    "\n"
   ]
  },
  {
   "cell_type": "code",
   "execution_count": 44,
   "metadata": {},
   "outputs": [
    {
     "data": {
      "text/plain": [
       "2"
      ]
     },
     "execution_count": 44,
     "metadata": {},
     "output_type": "execute_result"
    }
   ],
   "source": [
    "# Function to find the number of occurances of a substring\n",
    "def CharCount(s,c):\n",
    "    return s.count(c)\n",
    "\n",
    "CharCount(\"abcdacccabc\",\"ab\")\n"
   ]
  },
  {
   "cell_type": "code",
   "execution_count": null,
   "metadata": {},
   "outputs": [],
   "source": []
  }
 ],
 "metadata": {
  "kernelspec": {
   "display_name": "Python 3",
   "language": "python",
   "name": "python3"
  },
  "language_info": {
   "codemirror_mode": {
    "name": "ipython",
    "version": 3
   },
   "file_extension": ".py",
   "mimetype": "text/x-python",
   "name": "python",
   "nbconvert_exporter": "python",
   "pygments_lexer": "ipython3",
   "version": "3.7.3"
  }
 },
 "nbformat": 4,
 "nbformat_minor": 2
}
