{
 "cells": [
  {
   "cell_type": "markdown",
   "metadata": {},
   "source": [
    "## Problem Solving and Programming\n",
    "\n",
    "#### Date 12 june 2019\n",
    "\n",
    "#### Day Objectives\n",
    "\n",
    "* String Slicing\n",
    "* Functions in Python\n",
    "* Basic Problems Related to Conditional Statements Using Functions\n",
    "* Iteration in Python\n"
   ]
  },
  {
   "cell_type": "markdown",
   "metadata": {},
   "source": [
    "### String Slicing"
   ]
  },
  {
   "cell_type": "code",
   "execution_count": null,
   "metadata": {},
   "outputs": [],
   "source": [
    "s = \"python\"\n",
    "## single characters\n",
    "print(s[0]) # Accessing the first character in a string\n",
    "print(s[1]) # Accessing the second character in a string\n",
    "print(s[len(s)-1]) # Accessing the last character in a string\n",
    "print(s[-1]) # Another way of accessing last character in a string\n",
    "print(s[-2]) # Accessing the Penultimate character in a string\n",
    "\n",
    "## more characters\n",
    "print(s[0:2]) # Accessing first two characters of the string\n",
    "print(s[-2:]) # Accessing last two characters \n",
    "print(s[4:]) # Accessing all characters 5th character to the end of string\n",
    "\n",
    "## Accessing all Characters except first and last character\n",
    "print(s[1:-1])\n",
    "print(s[len(s)//2])# Accessing middle character of the string\n",
    "print(s[-1::-1])# Reverse of a string\n",
    "print(s[-1:-3:-1])# Accessing last two characters in a reverse order\n",
    "\n",
    "# Reverse the middle two characters in a even length string\n",
    "print(s[len(s)//2:len(s)//2-2:1])\n",
    "print(s[::2])\n",
    "print(s[::-2])"
   ]
  },
  {
   "cell_type": "markdown",
   "metadata": {},
   "source": [
    "### Functions"
   ]
  },
  {
   "cell_type": "code",
   "execution_count": 14,
   "metadata": {},
   "outputs": [
    {
     "data": {
      "text/plain": [
       "True"
      ]
     },
     "execution_count": 14,
     "metadata": {},
     "output_type": "execute_result"
    }
   ],
   "source": [
    "def palindrome(p):\n",
    "    if p == p[::-1]:\n",
    "        return True\n",
    "    else:\n",
    "        return False\n",
    "palindrome(\"mom\")"
   ]
  },
  {
   "cell_type": "code",
   "execution_count": 24,
   "metadata": {},
   "outputs": [
    {
     "data": {
      "text/plain": [
       "True"
      ]
     },
     "execution_count": 24,
     "metadata": {},
     "output_type": "execute_result"
    }
   ],
   "source": [
    "def isLeapYear(n):\n",
    "    if n%400==0 or (n%100!=0 and n%4==0):\n",
    "        return True\n",
    "    else:\n",
    "        return False\n",
    "    \n",
    "isLeapYear(2020)\n",
    "    "
   ]
  },
  {
   "cell_type": "code",
   "execution_count": 25,
   "metadata": {},
   "outputs": [
    {
     "data": {
      "text/plain": [
       "9"
      ]
     },
     "execution_count": 25,
     "metadata": {},
     "output_type": "execute_result"
    }
   ],
   "source": [
    "# Function to count the number of digits in a given number\n",
    "\n",
    "    \n",
    "    "
   ]
  },
  {
   "cell_type": "code",
   "execution_count": 26,
   "metadata": {},
   "outputs": [
    {
     "data": {
      "text/plain": [
       "9"
      ]
     },
     "execution_count": 26,
     "metadata": {},
     "output_type": "execute_result"
    }
   ],
   "source": [
    "#Function to identify the greatest of four numbers\n",
    "def greatestnumbers(n1,n2,n3,n4):\n",
    "    if n1>n2 and n1>n3 and n1>n4:\n",
    "        return n1\n",
    "    elif n2>n1 and n2>n3 and n2>n4:\n",
    "        return n2\n",
    "    elif n3>n1 and n3>n2 and n3>n4:\n",
    "        return n3\n",
    "    else:\n",
    "        return n4\n",
    "greatestnumbers(1,6,4,9)\n"
   ]
  },
  {
   "cell_type": "markdown",
   "metadata": {},
   "source": [
    "### Iteration\n",
    "* for\n",
    "* while\n"
   ]
  },
  {
   "cell_type": "code",
   "execution_count": 30,
   "metadata": {},
   "outputs": [
    {
     "name": "stdout",
     "output_type": "stream",
     "text": [
      "1 2 3 4 5 6 7 8 9 10 "
     ]
    }
   ],
   "source": [
    "# Function to print n natural numbers using for loop\n",
    "def naturalnumbers(n):\n",
    "    for i in range(1, n+1):\n",
    "        print(i, end=\" \")\n",
    "    return\n",
    "naturalnumbers(10)"
   ]
  },
  {
   "cell_type": "code",
   "execution_count": 6,
   "metadata": {},
   "outputs": [
    {
     "name": "stdout",
     "output_type": "stream",
     "text": [
      "Enter the value:10\n",
      "1 2 3 4 5 6 7 8 9 10 "
     ]
    }
   ],
   "source": [
    "# Function to print n natural numbers using for loop\n",
    "n = int(input(\"Enter the value:\"))\n",
    "def n_naturalnumbers(n):\n",
    "    i = 1\n",
    "    while i <= n:\n",
    "        print(i, end=\" \")\n",
    "        i = i + 1\n",
    "    return\n",
    "n_naturalnumbers(n)"
   ]
  },
  {
   "cell_type": "code",
   "execution_count": 5,
   "metadata": {},
   "outputs": [
    {
     "name": "stdout",
     "output_type": "stream",
     "text": [
      "Enter lb value:1\n",
      "Enter ub value:20\n",
      "6\n",
      "12\n",
      "18\n"
     ]
    }
   ],
   "source": [
    "# Function to print all numbers divisible by 6 and not a factor of 100 in a given range(lb,ub) inclusive\n",
    "lb = int(input(\"Enter lb value:\"))\n",
    "ub = int(input(\"Enter ub value:\"))\n",
    "def allnumbers(lb,ub):\n",
    "    c = 1\n",
    "    for c in range(lb,ub):\n",
    "        if c%6==0 and 100%c != 0:\n",
    "            print(c)\n",
    "    return\n",
    "        \n",
    "allnumbers(lb,ub)\n",
    "        \n",
    "        \n",
    "    \n",
    "\n"
   ]
  },
  {
   "cell_type": "code",
   "execution_count": 4,
   "metadata": {},
   "outputs": [
    {
     "name": "stdout",
     "output_type": "stream",
     "text": [
      "Enter x value:50\n",
      "Enter y value:75\n"
     ]
    },
    {
     "data": {
      "text/plain": [
       "129346.88"
      ]
     },
     "execution_count": 4,
     "metadata": {},
     "output_type": "execute_result"
    }
   ],
   "source": [
    "# Function to find the average  of cube of all even numbers in a given range(lb,ub) inclusive\n",
    "x = int(input(\"Enter x value:\"))\n",
    "y = int(input(\"Enter y value:\"))\n",
    "def avgcubeseven(x,y):\n",
    "    sum = 0\n",
    "    for i in range(x,y+1):\n",
    "        if i % 2 == 0:\n",
    "            sum += i ** 3\n",
    "    return sum/(y-x)\n",
    "        \n",
    "avgcubeseven(x,y)"
   ]
  },
  {
   "cell_type": "code",
   "execution_count": 63,
   "metadata": {},
   "outputs": [
    {
     "name": "stdout",
     "output_type": "stream",
     "text": [
      "Enter the value:12\n",
      "1\n",
      "2\n",
      "3\n",
      "4\n",
      "6\n",
      "12\n"
     ]
    }
   ],
   "source": [
    "# Function to generate the list of factors for a given number\n",
    "# 12 -> 1 2 3 4 6 12\n",
    "\n",
    "n = int(input(\"Enter the value:\"))\n",
    "def generatefactors(n):\n",
    "    i=1\n",
    "    for i in range(1, n+1):\n",
    "        if n%i==0:\n",
    "            print(i)\n",
    "    return\n",
    "generatefactors(n)\n"
   ]
  },
  {
   "cell_type": "code",
   "execution_count": 3,
   "metadata": {},
   "outputs": [
    {
     "name": "stdout",
     "output_type": "stream",
     "text": [
      "Enter the value:5\n"
     ]
    },
    {
     "data": {
      "text/plain": [
       "120"
      ]
     },
     "execution_count": 3,
     "metadata": {},
     "output_type": "execute_result"
    }
   ],
   "source": [
    "# Function to calculate the factorial of a given number\n",
    "n = int(input(\"Enter the value:\"))\n",
    "def calfactorial(n):\n",
    "    fact = 1\n",
    "    for i in range(2, n+1):\n",
    "        fact *= i\n",
    "    return fact\n",
    "calfactorial(n)"
   ]
  },
  {
   "cell_type": "code",
   "execution_count": 71,
   "metadata": {},
   "outputs": [
    {
     "data": {
      "text/plain": [
       "False"
      ]
     },
     "execution_count": 71,
     "metadata": {},
     "output_type": "execute_result"
    }
   ],
   "source": [
    "# Function to generate if a given number is prime\n",
    "def isprime(n):\n",
    "    c = True\n",
    "    for i in range(2,n**2):\n",
    "        if n % i == 0:\n",
    "            c = False\n",
    "            \n",
    "    return c\n",
    "isprime(17)\n",
    "    "
   ]
  },
  {
   "cell_type": "code",
   "execution_count": null,
   "metadata": {},
   "outputs": [],
   "source": [
    "# Function to calculate the average first N prime numbers\n",
    "def isprime(n):\n",
    "    c = True\n",
    "    for i in range(2,n**2):\n",
    "        if n % i == 0:\n",
    "            c = False\n",
    "\n",
    "def avgNprimenum(n):\n",
    "    c = 0\n",
    "    x=2\n",
    "    sum = 0\n",
    "    while(c < n):\n",
    "        if isprime(x):\n",
    "            c +=1\n",
    "            sum += x\n",
    "        x += 1\n",
    "    return sum/n\n",
    "avgNprimenum(10)\n",
    "        \n",
    "        "
   ]
  },
  {
   "cell_type": "code",
   "execution_count": 53,
   "metadata": {},
   "outputs": [],
   "source": [
    "# Function to generate all perfect numbers in a given range\n",
    "# perfect number- sum of all its factors is equal \n",
    "def perfect_numbers(n):\n",
    "    if factorial\n",
    "    \n",
    "\n"
   ]
  },
  {
   "cell_type": "code",
   "execution_count": 7,
   "metadata": {},
   "outputs": [
    {
     "name": "stdout",
     "output_type": "stream",
     "text": [
      "Enter start value:1000\n",
      "Enter end value:5000\n"
     ]
    },
    {
     "data": {
      "text/plain": [
       "3000.0"
      ]
     },
     "execution_count": 7,
     "metadata": {},
     "output_type": "execute_result"
    }
   ],
   "source": [
    "# Function to calculate the average of a given range\n",
    "start = int(input(\"Enter start value:\"))\n",
    "end = int(input(\"Enter end value:\"))\n",
    "def avgRange(start,end):\n",
    "    sum = 0\n",
    "    count = 0\n",
    "    for i in range(start,end+1):\n",
    "        sum = sum + i\n",
    "    return sum/(end-start+1)\n",
    "avgRange(start, end)\n"
   ]
  },
  {
   "cell_type": "code",
   "execution_count": 15,
   "metadata": {},
   "outputs": [
    {
     "name": "stdout",
     "output_type": "stream",
     "text": [
      "Enter start year:1975\n",
      "Enter end year:1999\n",
      "1976 1980 1984 1988 1992 1996 "
     ]
    }
   ],
   "source": [
    "# Function to generate all leap years in a given time period\n",
    "startyear = int(input(\"Enter start year:\"))\n",
    "endyear = int(input(\"Enter end year:\"))\n",
    "\n",
    "def isLeapYear(n):\n",
    "    if n%400==0 or (n%100!=0 and n%4==0):\n",
    "        return True\n",
    "    else:\n",
    "        return False\n",
    "    \n",
    "def generateleapyears(startyear,endyear):\n",
    "    for n in range(startyear,endyear+1):\n",
    "        if isLeapYear(n):\n",
    "            print(n, end=\" \")\n",
    "    return\n",
    "        \n",
    "generateleapyears(startyear,endyear)"
   ]
  },
  {
   "cell_type": "code",
   "execution_count": 1,
   "metadata": {},
   "outputs": [
    {
     "data": {
      "text/plain": [
       "730"
      ]
     },
     "execution_count": 1,
     "metadata": {},
     "output_type": "execute_result"
    }
   ],
   "source": [
    "# Calculate number of days in a given time period    \n",
    "def isLeapYear(n):\n",
    "    if n%400==0 or (n%100!=0 and n%4==0):\n",
    "        return True\n",
    "    else:\n",
    "        return False\n",
    "\n",
    "def NumofDays(start,end):\n",
    "    sum = 0\n",
    "    for n in range(start,end+1):\n",
    "        if isLeapYear(n):\n",
    "            sum = sum + 366\n",
    "        else:\n",
    "            sum = sum + 365\n",
    "    return sum\n",
    "        \n",
    "NumofDays(2001,2002)    \n",
    "    \n"
   ]
  },
  {
   "cell_type": "code",
   "execution_count": 5,
   "metadata": {},
   "outputs": [
    {
     "data": {
      "text/plain": [
       "219144"
      ]
     },
     "execution_count": 5,
     "metadata": {},
     "output_type": "execute_result"
    }
   ],
   "source": [
    "# Function to Calculate number of hours for a given period of time in the format(month,year)\n",
    "def NumofDays(start,end):\n",
    "    sum = 0\n",
    "    for n in range(start,end+1):\n",
    "        if isLeapYear(n):\n",
    "            sum = sum + 366\n",
    "        else:\n",
    "            sum = sum + 365\n",
    "    return sum\n",
    "\n",
    "def NumofHours(start,end):\n",
    "    hours = 24\n",
    "    return NumofDays(start,end)*hours\n",
    "NumofHours(1975,1999)\n",
    "   "
   ]
  },
  {
   "cell_type": "code",
   "execution_count": 17,
   "metadata": {},
   "outputs": [
    {
     "data": {
      "text/plain": [
       "4368"
      ]
     },
     "execution_count": 17,
     "metadata": {},
     "output_type": "execute_result"
    }
   ],
   "source": [
    "def isLeapYear(n):\n",
    "    if n%400==0 or (n%100!=0 and n%4==0):\n",
    "        return True\n",
    "    else:\n",
    "        return False\n",
    "\n",
    "def noofdaysinamonth(month,year):\n",
    "    if month == 2:\n",
    "        if isLeapYear(year):\n",
    "            return 29\n",
    "        return 28\n",
    "        \n",
    "    if (month <=7 and month % 2 != 0) or (month>=8 and month % 2 ==0):\n",
    "        return 31\n",
    "    else:\n",
    "        return 30\n",
    "\n",
    "def DaysinStartYear(startmonth,startyear):\n",
    "    days = 0\n",
    "    for month in range(startmonth, 13):\n",
    "        days += noofdaysinamonth(month,startyear) \n",
    "    return days\n",
    "\n",
    "def DaysinEndYear(endmonth,endyear):\n",
    "    days = 0\n",
    "    for month in range(1, endmonth+1):\n",
    "        days += noofdaysinamonth(month,endyear)\n",
    "    return days\n",
    "\n",
    "\n",
    "def noofhours(startmonth, startyear, endmonth, endyear):\n",
    "    days = 0\n",
    "    days += DaysinStartYear(startmonth,startyear)\n",
    "    days += DaysinEndYear(endmonth,endyear)\n",
    "    if endyear - startyear == 2:\n",
    "        days += noofdaysinamonth(startyear+1, startyear+1)\n",
    "    elif endyear - startyear > 2:\n",
    "        days += noofdaysinamonth(startyear+1, endyear-1)\n",
    "    return 24 * days\n",
    "\n",
    "noofhours(11, 1975, 3, 1999)    \n",
    "        \n",
    "    \n",
    "    \n",
    "\n"
   ]
  },
  {
   "cell_type": "code",
   "execution_count": null,
   "metadata": {},
   "outputs": [],
   "source": []
  }
 ],
 "metadata": {
  "kernelspec": {
   "display_name": "Python 3",
   "language": "python",
   "name": "python3"
  },
  "language_info": {
   "codemirror_mode": {
    "name": "ipython",
    "version": 3
   },
   "file_extension": ".py",
   "mimetype": "text/x-python",
   "name": "python",
   "nbconvert_exporter": "python",
   "pygments_lexer": "ipython3",
   "version": "3.7.3"
  }
 },
 "nbformat": 4,
 "nbformat_minor": 2
}
